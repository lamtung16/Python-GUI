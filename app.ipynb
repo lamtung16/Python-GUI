{
 "cells": [
  {
   "cell_type": "code",
   "execution_count": 47,
   "metadata": {},
   "outputs": [
    {
     "data": {
      "text/plain": [
       "<__main__.MyGUI at 0x206f2f4c130>"
      ]
     },
     "execution_count": 47,
     "metadata": {},
     "output_type": "execute_result"
    }
   ],
   "source": [
    "import tkinter as tk\n",
    "from tkinter import messagebox\n",
    "import matplotlib.pyplot as plt\n",
    "from PIL import ImageTk, Image\n",
    "import numpy as np\n",
    "\n",
    "class MyGUI:\n",
    "    def __init__(self):\n",
    "        self.root = tk.Tk()\n",
    "        self.root.geometry(\"500x300\")\n",
    "\n",
    "        self.menubar = tk.Menu(self.root)\n",
    "        \n",
    "        self.filemenu = tk.Menu(self.menubar, tearoff=0)\n",
    "        self.filemenu.add_command(label=\"Close\", command=self.onclosing)\n",
    "        self.filemenu.add_separator()\n",
    "        self.filemenu.add_command(label=\"Close without question\", command=exit)\n",
    "\n",
    "        self.actionmenu = tk.Menu(self.menubar, tearoff=0)\n",
    "        self.actionmenu.add_command(label=\"Show Message\", command=self.show_message)\n",
    "\n",
    "        self.menubar.add_cascade(menu=self.filemenu, label=\"File\")\n",
    "        self.menubar.add_cascade(menu=self.actionmenu, label=\"Action\")\n",
    "\n",
    "        self.root.config(menu=self.menubar)\n",
    "\n",
    "        self.label = tk.Label(self.root, text='t = ', font=('Arial', 18))\n",
    "        self.label.pack()\n",
    "        self.label.place(x=10, y=10)\n",
    "\n",
    "        self.textbox = tk.Text(self.root, height=1, width=20, font=('Arial', 16))\n",
    "        self.textbox.bind(\"<KeyPress>\", self.shortcut)\n",
    "        self.textbox.pack()\n",
    "        self.textbox.place(x=50, y=10)\n",
    "\n",
    "        self.check_state = tk.IntVar()\n",
    "\n",
    "        self.plot_button = tk.Button(self.root, command = self.plot, height=1, width = 12, text = \"Plot f(x) = x**t\", font=('Arial', 16))\n",
    "        self.plot_button.pack()\n",
    "        self.plot_button.place(x=300, y=10)\n",
    "\n",
    "        \n",
    "        self.root.mainloop()\n",
    "    \n",
    "\n",
    "    def show_message(self):\n",
    "        if self.check_state.get() == 0:\n",
    "            print(self.textbox.get('1.0', tk.END))\n",
    "        else:\n",
    "            messagebox.showinfo(title=\"Message\", message=self.textbox.get('1.0', tk.END))\n",
    "    \n",
    "\n",
    "    def shortcut(self, event):\n",
    "        if event.state == 12 and event.keysym == 'Return':\n",
    "            self.show_message()\n",
    "\n",
    "\n",
    "    def onclosing(self):\n",
    "        if messagebox.askyesno(title=\"Quit?\", message='Want to quit?'):\n",
    "            self.root.destroy()\n",
    "    \n",
    "\n",
    "    def plot(self):\n",
    "        t = int(self.textbox.get(\"1.0\", \"end-1c\"))\n",
    "\n",
    "        x = np.arange(1.0, 20.0, 0.01)\n",
    "\n",
    "        # export image\n",
    "        plt.plot(x, np.power(x, t), 'k')\n",
    "        plt.xlabel('x')\n",
    "        plt.ylabel('f(x)')\n",
    "        plt.savefig(\"image.pdf\")\n",
    "        plt.savefig(\"image.png\")\n",
    "        plt.close()\n",
    "\n",
    "        img = ImageTk.PhotoImage(Image.open(\"image.png\").resize([400, 200]))\n",
    "        plotlabel = tk.Label(self.root, image=img)\n",
    "        plotlabel.pack()\n",
    "        plotlabel.place(x=20, y=60, relheight=0.7, relwidth=0.9)\n",
    "        plotlabel.image = img\n",
    "\n",
    "MyGUI()"
   ]
  }
 ],
 "metadata": {
  "kernelspec": {
   "display_name": "Python 3",
   "language": "python",
   "name": "python3"
  },
  "language_info": {
   "codemirror_mode": {
    "name": "ipython",
    "version": 3
   },
   "file_extension": ".py",
   "mimetype": "text/x-python",
   "name": "python",
   "nbconvert_exporter": "python",
   "pygments_lexer": "ipython3",
   "version": "3.10.5"
  },
  "orig_nbformat": 4,
  "vscode": {
   "interpreter": {
    "hash": "912d6611990680b3d240e982c9d50f3da4c776707cfd42695cf7d82c88d80956"
   }
  }
 },
 "nbformat": 4,
 "nbformat_minor": 2
}
